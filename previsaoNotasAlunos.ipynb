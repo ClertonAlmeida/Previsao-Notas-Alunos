{
 "cells": [
  {
   "cell_type": "markdown",
   "id": "2f7c08f2",
   "metadata": {},
   "source": [
    "# Previsão de notas do aluno usando Python"
   ]
  },
  {
   "cell_type": "code",
   "execution_count": 1,
   "id": "dfc3206e",
   "metadata": {},
   "outputs": [
    {
     "data": {
      "text/html": [
       "<div>\n",
       "<style scoped>\n",
       "    .dataframe tbody tr th:only-of-type {\n",
       "        vertical-align: middle;\n",
       "    }\n",
       "\n",
       "    .dataframe tbody tr th {\n",
       "        vertical-align: top;\n",
       "    }\n",
       "\n",
       "    .dataframe thead th {\n",
       "        text-align: right;\n",
       "    }\n",
       "</style>\n",
       "<table border=\"1\" class=\"dataframe\">\n",
       "  <thead>\n",
       "    <tr style=\"text-align: right;\">\n",
       "      <th></th>\n",
       "      <th>number_courses</th>\n",
       "      <th>time_study</th>\n",
       "      <th>Marks</th>\n",
       "    </tr>\n",
       "  </thead>\n",
       "  <tbody>\n",
       "    <tr>\n",
       "      <th>0</th>\n",
       "      <td>3</td>\n",
       "      <td>4.508</td>\n",
       "      <td>19.202</td>\n",
       "    </tr>\n",
       "    <tr>\n",
       "      <th>1</th>\n",
       "      <td>4</td>\n",
       "      <td>0.096</td>\n",
       "      <td>7.734</td>\n",
       "    </tr>\n",
       "    <tr>\n",
       "      <th>2</th>\n",
       "      <td>4</td>\n",
       "      <td>3.133</td>\n",
       "      <td>13.811</td>\n",
       "    </tr>\n",
       "    <tr>\n",
       "      <th>3</th>\n",
       "      <td>6</td>\n",
       "      <td>7.909</td>\n",
       "      <td>53.018</td>\n",
       "    </tr>\n",
       "    <tr>\n",
       "      <th>4</th>\n",
       "      <td>8</td>\n",
       "      <td>7.811</td>\n",
       "      <td>55.299</td>\n",
       "    </tr>\n",
       "  </tbody>\n",
       "</table>\n",
       "</div>"
      ],
      "text/plain": [
       "   number_courses  time_study   Marks\n",
       "0               3       4.508  19.202\n",
       "1               4       0.096   7.734\n",
       "2               4       3.133  13.811\n",
       "3               6       7.909  53.018\n",
       "4               8       7.811  55.299"
      ]
     },
     "execution_count": 1,
     "metadata": {},
     "output_type": "execute_result"
    }
   ],
   "source": [
    "import numpy as np\n",
    "import pandas as pd\n",
    "import seaborn as sns\n",
    "import matplotlib.pyplot as plt\n",
    "%matplotlib inline\n",
    "notas = pd.read_csv(\"Student_Marks.csv\")\n",
    "notas.head()"
   ]
  },
  {
   "cell_type": "markdown",
   "id": "f0673f4a",
   "metadata": {},
   "source": [
    "## Estatísticas descritivas"
   ]
  },
  {
   "cell_type": "code",
   "execution_count": 2,
   "id": "b2f91540",
   "metadata": {},
   "outputs": [
    {
     "data": {
      "text/html": [
       "<div>\n",
       "<style scoped>\n",
       "    .dataframe tbody tr th:only-of-type {\n",
       "        vertical-align: middle;\n",
       "    }\n",
       "\n",
       "    .dataframe tbody tr th {\n",
       "        vertical-align: top;\n",
       "    }\n",
       "\n",
       "    .dataframe thead th {\n",
       "        text-align: right;\n",
       "    }\n",
       "</style>\n",
       "<table border=\"1\" class=\"dataframe\">\n",
       "  <thead>\n",
       "    <tr style=\"text-align: right;\">\n",
       "      <th></th>\n",
       "      <th>number_courses</th>\n",
       "      <th>time_study</th>\n",
       "      <th>Marks</th>\n",
       "    </tr>\n",
       "  </thead>\n",
       "  <tbody>\n",
       "    <tr>\n",
       "      <th>count</th>\n",
       "      <td>100.00</td>\n",
       "      <td>100.00</td>\n",
       "      <td>100.00</td>\n",
       "    </tr>\n",
       "    <tr>\n",
       "      <th>mean</th>\n",
       "      <td>5.29</td>\n",
       "      <td>4.08</td>\n",
       "      <td>24.42</td>\n",
       "    </tr>\n",
       "    <tr>\n",
       "      <th>std</th>\n",
       "      <td>1.80</td>\n",
       "      <td>2.37</td>\n",
       "      <td>14.33</td>\n",
       "    </tr>\n",
       "    <tr>\n",
       "      <th>min</th>\n",
       "      <td>3.00</td>\n",
       "      <td>0.10</td>\n",
       "      <td>5.61</td>\n",
       "    </tr>\n",
       "    <tr>\n",
       "      <th>25%</th>\n",
       "      <td>4.00</td>\n",
       "      <td>2.06</td>\n",
       "      <td>12.63</td>\n",
       "    </tr>\n",
       "    <tr>\n",
       "      <th>50%</th>\n",
       "      <td>5.00</td>\n",
       "      <td>4.02</td>\n",
       "      <td>20.06</td>\n",
       "    </tr>\n",
       "    <tr>\n",
       "      <th>75%</th>\n",
       "      <td>7.00</td>\n",
       "      <td>6.18</td>\n",
       "      <td>36.68</td>\n",
       "    </tr>\n",
       "    <tr>\n",
       "      <th>max</th>\n",
       "      <td>8.00</td>\n",
       "      <td>7.96</td>\n",
       "      <td>55.30</td>\n",
       "    </tr>\n",
       "  </tbody>\n",
       "</table>\n",
       "</div>"
      ],
      "text/plain": [
       "       number_courses  time_study   Marks\n",
       "count          100.00      100.00  100.00\n",
       "mean             5.29        4.08   24.42\n",
       "std              1.80        2.37   14.33\n",
       "min              3.00        0.10    5.61\n",
       "25%              4.00        2.06   12.63\n",
       "50%              5.00        4.02   20.06\n",
       "75%              7.00        6.18   36.68\n",
       "max              8.00        7.96   55.30"
      ]
     },
     "execution_count": 2,
     "metadata": {},
     "output_type": "execute_result"
    }
   ],
   "source": [
    "notas.describe().round(2)"
   ]
  },
  {
   "cell_type": "markdown",
   "id": "0b04e37f",
   "metadata": {},
   "source": [
    "## Matriz de correlação"
   ]
  },
  {
   "cell_type": "code",
   "execution_count": 3,
   "id": "4432d1af",
   "metadata": {},
   "outputs": [
    {
     "data": {
      "text/html": [
       "<div>\n",
       "<style scoped>\n",
       "    .dataframe tbody tr th:only-of-type {\n",
       "        vertical-align: middle;\n",
       "    }\n",
       "\n",
       "    .dataframe tbody tr th {\n",
       "        vertical-align: top;\n",
       "    }\n",
       "\n",
       "    .dataframe thead th {\n",
       "        text-align: right;\n",
       "    }\n",
       "</style>\n",
       "<table border=\"1\" class=\"dataframe\">\n",
       "  <thead>\n",
       "    <tr style=\"text-align: right;\">\n",
       "      <th></th>\n",
       "      <th>number_courses</th>\n",
       "      <th>time_study</th>\n",
       "      <th>Marks</th>\n",
       "    </tr>\n",
       "  </thead>\n",
       "  <tbody>\n",
       "    <tr>\n",
       "      <th>number_courses</th>\n",
       "      <td>1.0000</td>\n",
       "      <td>0.2048</td>\n",
       "      <td>0.4173</td>\n",
       "    </tr>\n",
       "    <tr>\n",
       "      <th>time_study</th>\n",
       "      <td>0.2048</td>\n",
       "      <td>1.0000</td>\n",
       "      <td>0.9423</td>\n",
       "    </tr>\n",
       "    <tr>\n",
       "      <th>Marks</th>\n",
       "      <td>0.4173</td>\n",
       "      <td>0.9423</td>\n",
       "      <td>1.0000</td>\n",
       "    </tr>\n",
       "  </tbody>\n",
       "</table>\n",
       "</div>"
      ],
      "text/plain": [
       "                number_courses  time_study   Marks\n",
       "number_courses          1.0000      0.2048  0.4173\n",
       "time_study              0.2048      1.0000  0.9423\n",
       "Marks                   0.4173      0.9423  1.0000"
      ]
     },
     "execution_count": 3,
     "metadata": {},
     "output_type": "execute_result"
    }
   ],
   "source": [
    "notas.corr().round(4)"
   ]
  },
  {
   "cell_type": "markdown",
   "id": "e3ab0ec6",
   "metadata": {},
   "source": [
    "# Comportamento da Variável Dependente (Y)"
   ]
  },
  {
   "cell_type": "markdown",
   "id": "0b616b08",
   "metadata": {},
   "source": [
    "https://seaborn.pydata.org/generated/seaborn.boxplot.html?highlight=boxplot#seaborn.boxplot"
   ]
  },
  {
   "cell_type": "code",
   "execution_count": 4,
   "id": "d9929f32",
   "metadata": {},
   "outputs": [
    {
     "data": {
      "text/plain": [
       "<AxesSubplot:title={'center':'Notas dos Alunos'}>"
      ]
     },
     "execution_count": 4,
     "metadata": {},
     "output_type": "execute_result"
    },
    {
     "data": {
      "image/png": "[encoded data removed]",
      "text/plain": [
       "<Figure size 1440x360 with 1 Axes>"
      ]
     },
     "metadata": {
      "needs_background": "light"
     },
     "output_type": "display_data"
    }
   ],
   "source": [
    "ax = sns.boxplot(data=notas['Marks'], orient='h', width=0.3)\n",
    "ax.figure.set_size_inches(20, 5)\n",
    "ax.set_title('Notas dos Alunos', fontsize=20)\n",
    "\n",
    "ax"
   ]
  },
  {
   "cell_type": "markdown",
   "id": "9a6f4906",
   "metadata": {},
   "source": [
    "## Distribuição de frequências da variável dependente (y)"
   ]
  },
  {
   "cell_type": "code",
   "execution_count": 5,
   "id": "f4cea4f3",
   "metadata": {},
   "outputs": [
    {
     "name": "stderr",
     "output_type": "stream",
     "text": [
      "C:\\Users\\PC\\anaconda3\\lib\\site-packages\\seaborn\\distributions.py:2619: FutureWarning: `distplot` is a deprecated function and will be removed in a future version. Please adapt your code to use either `displot` (a figure-level function with similar flexibility) or `histplot` (an axes-level function for histograms).\n",
      "  warnings.warn(msg, FutureWarning)\n"
     ]
    },
    {
     "data": {
      "text/plain": [
       "<AxesSubplot:title={'center':'Distribuição de Frequências'}, xlabel='Marks', ylabel='Density'>"
      ]
     },
     "execution_count": 5,
     "metadata": {},
     "output_type": "execute_result"
    },
    {
     "data": {
      "image/png": "[encoded data removed]",
      "text/plain": [
       "<Figure size 1440x432 with 1 Axes>"
      ]
     },
     "metadata": {
      "needs_background": "light"
     },
     "output_type": "display_data"
    }
   ],
   "source": [
    "ax = sns.distplot(notas['Marks'])\n",
    "ax.figure.set_size_inches(20, 6)\n",
    "ax.set_title('Distribuição de Frequências', fontsize=20)\n",
    "\n",
    "ax"
   ]
  },
  {
   "cell_type": "markdown",
   "id": "0f01de8f",
   "metadata": {},
   "source": [
    "## Plota o relacionamento entre pares de variáveis em um dataset."
   ]
  },
  {
   "cell_type": "code",
   "execution_count": 6,
   "id": "e2f00468",
   "metadata": {},
   "outputs": [
    {
     "data": {
      "text/plain": [
       "<seaborn.axisgrid.PairGrid at 0x2a32da90700>"
      ]
     },
     "execution_count": 6,
     "metadata": {},
     "output_type": "execute_result"
    },
    {
     "data": {
      "image/png": "[encoded data removed]",
      "text/plain": [
       "<Figure size 720x360 with 2 Axes>"
      ]
     },
     "metadata": {
      "needs_background": "light"
     },
     "output_type": "display_data"
    }
   ],
   "source": [
    "ax = sns.pairplot(notas, y_vars='Marks', x_vars=['number_courses', 'time_study'], height=5)\n",
    "ax.fig.suptitle('Dispersão entre as Variáveis', fontsize=20, y=1.05)\n",
    "ax"
   ]
  },
  {
   "cell_type": "code",
   "execution_count": 7,
   "id": "f4764a26",
   "metadata": {},
   "outputs": [
    {
     "data": {
      "text/plain": [
       "<seaborn.axisgrid.PairGrid at 0x2a32db98ee0>"
      ]
     },
     "execution_count": 7,
     "metadata": {},
     "output_type": "execute_result"
    },
    {
     "data": {
      "image/png": "[encoded data removed]",
      "text/plain": [
       "<Figure size 720x360 with 2 Axes>"
      ]
     },
     "metadata": {
      "needs_background": "light"
     },
     "output_type": "display_data"
    }
   ],
   "source": [
    "ax = sns.pairplot(notas, y_vars='Marks', x_vars=['number_courses', 'time_study'], kind='reg', height=5)\n",
    "ax.fig.suptitle('Dispersão entre as Variáveis', fontsize=20, y=1.05)\n",
    "ax"
   ]
  },
  {
   "cell_type": "code",
   "execution_count": 8,
   "id": "8a486f49",
   "metadata": {},
   "outputs": [
    {
     "data": {
      "text/plain": [
       "number_courses    0\n",
       "time_study        0\n",
       "Marks             0\n",
       "dtype: int64"
      ]
     },
     "execution_count": 8,
     "metadata": {},
     "output_type": "execute_result"
    }
   ],
   "source": [
    "# Verificando se tem valores nulls\n",
    "notas.isnull().sum()"
   ]
  },
  {
   "cell_type": "code",
   "execution_count": 9,
   "id": "6e363757",
   "metadata": {},
   "outputs": [
    {
     "data": {
      "text/plain": [
       "array([3, 4, 6, 8, 5, 7], dtype=int64)"
      ]
     },
     "execution_count": 9,
     "metadata": {},
     "output_type": "execute_result"
    }
   ],
   "source": [
    "notas.number_courses.unique()"
   ]
  },
  {
   "cell_type": "code",
   "execution_count": 10,
   "id": "35a8e2f1",
   "metadata": {},
   "outputs": [
    {
     "data": {
      "text/plain": [
       "3    22\n",
       "4    21\n",
       "6    16\n",
       "8    16\n",
       "7    15\n",
       "5    10\n",
       "Name: number_courses, dtype: int64"
      ]
     },
     "execution_count": 10,
     "metadata": {},
     "output_type": "execute_result"
    }
   ],
   "source": [
    "notas.number_courses.value_counts()"
   ]
  },
  {
   "cell_type": "code",
   "execution_count": 11,
   "id": "871825ad",
   "metadata": {},
   "outputs": [
    {
     "data": {
      "image/png": "[encoded data removed]",
      "text/plain": [
       "<Figure size 432x288 with 1 Axes>"
      ]
     },
     "metadata": {
      "needs_background": "light"
     },
     "output_type": "display_data"
    }
   ],
   "source": [
    "x = notas['time_study']\n",
    "y = notas['Marks']\n",
    "# size and color:\n",
    "sizes = np.random.uniform(15, 80, len(x))\n",
    "colors = np.random.uniform(15, 80, len(x))\n",
    "# plot\n",
    "fig, ax = plt.subplots()\n",
    "ax.scatter(x, y, s=sizes, c=colors, vmin=0, vmax=100)\n",
    "\n",
    "plt.show()"
   ]
  },
  {
   "cell_type": "code",
   "execution_count": 12,
   "id": "e5472af5",
   "metadata": {},
   "outputs": [
    {
     "data": {
      "text/html": [
       "<div>\n",
       "<style scoped>\n",
       "    .dataframe tbody tr th:only-of-type {\n",
       "        vertical-align: middle;\n",
       "    }\n",
       "\n",
       "    .dataframe tbody tr th {\n",
       "        vertical-align: top;\n",
       "    }\n",
       "\n",
       "    .dataframe thead th {\n",
       "        text-align: right;\n",
       "    }\n",
       "</style>\n",
       "<table border=\"1\" class=\"dataframe\">\n",
       "  <thead>\n",
       "    <tr style=\"text-align: right;\">\n",
       "      <th></th>\n",
       "      <th>time_study</th>\n",
       "      <th>Marks</th>\n",
       "    </tr>\n",
       "    <tr>\n",
       "      <th>number_courses</th>\n",
       "      <th></th>\n",
       "      <th></th>\n",
       "    </tr>\n",
       "  </thead>\n",
       "  <tbody>\n",
       "    <tr>\n",
       "      <th>3</th>\n",
       "      <td>3.685773</td>\n",
       "      <td>18.433318</td>\n",
       "    </tr>\n",
       "    <tr>\n",
       "      <th>4</th>\n",
       "      <td>3.598524</td>\n",
       "      <td>19.029952</td>\n",
       "    </tr>\n",
       "    <tr>\n",
       "      <th>5</th>\n",
       "      <td>3.070600</td>\n",
       "      <td>17.641000</td>\n",
       "    </tr>\n",
       "    <tr>\n",
       "      <th>6</th>\n",
       "      <td>4.838750</td>\n",
       "      <td>29.863062</td>\n",
       "    </tr>\n",
       "    <tr>\n",
       "      <th>7</th>\n",
       "      <td>4.242667</td>\n",
       "      <td>29.401467</td>\n",
       "    </tr>\n",
       "    <tr>\n",
       "      <th>8</th>\n",
       "      <td>4.955750</td>\n",
       "      <td>33.835375</td>\n",
       "    </tr>\n",
       "  </tbody>\n",
       "</table>\n",
       "</div>"
      ],
      "text/plain": [
       "                time_study      Marks\n",
       "number_courses                       \n",
       "3                 3.685773  18.433318\n",
       "4                 3.598524  19.029952\n",
       "5                 3.070600  17.641000\n",
       "6                 4.838750  29.863062\n",
       "7                 4.242667  29.401467\n",
       "8                 4.955750  33.835375"
      ]
     },
     "execution_count": 12,
     "metadata": {},
     "output_type": "execute_result"
    }
   ],
   "source": [
    "notas.groupby('number_courses')[['time_study', 'Marks']].mean()"
   ]
  },
  {
   "cell_type": "code",
   "execution_count": 13,
   "id": "c0fa72a3",
   "metadata": {},
   "outputs": [
    {
     "data": {
      "text/plain": [
       "number_courses\n",
       "3    18.433318\n",
       "4    19.029952\n",
       "5    17.641000\n",
       "6    29.863062\n",
       "7    29.401467\n",
       "8    33.835375\n",
       "Name: Marks, dtype: float64"
      ]
     },
     "execution_count": 13,
     "metadata": {},
     "output_type": "execute_result"
    }
   ],
   "source": [
    "notas.groupby('number_courses')['Marks'].mean()"
   ]
  },
  {
   "cell_type": "code",
   "execution_count": 14,
   "id": "8475516a",
   "metadata": {},
   "outputs": [
    {
     "data": {
      "image/png": "[encoded data removed]",
      "text/plain": [
       "<Figure size 432x288 with 1 Axes>"
      ]
     },
     "metadata": {
      "needs_background": "light"
     },
     "output_type": "display_data"
    }
   ],
   "source": [
    "sns.barplot(x='number_courses', y='Marks',data=notas);"
   ]
  },
  {
   "cell_type": "code",
   "execution_count": 15,
   "id": "45afba97",
   "metadata": {},
   "outputs": [
    {
     "data": {
      "image/png": "[encoded data removed]",
      "text/plain": [
       "<Figure size 432x288 with 1 Axes>"
      ]
     },
     "metadata": {
      "needs_background": "light"
     },
     "output_type": "display_data"
    }
   ],
   "source": [
    "sns.boxplot(x='number_courses', y='Marks',data=notas);"
   ]
  },
  {
   "cell_type": "markdown",
   "id": "9e023ccf",
   "metadata": {},
   "source": [
    "# Criando os Datasets de Treino e Teste"
   ]
  },
  {
   "cell_type": "code",
   "execution_count": null,
   "id": "edbe4596",
   "metadata": {},
   "outputs": [],
   "source": []
  },
  {
   "cell_type": "markdown",
   "id": "5e8e726f",
   "metadata": {},
   "source": [
    "Agora vamos dar uma olhada na correlação entre as notas obtidas pelos alunos e as outras duas colunas nos dados:"
   ]
  },
  {
   "cell_type": "code",
   "execution_count": 16,
   "id": "68bcce3a",
   "metadata": {},
   "outputs": [
    {
     "data": {
      "text/plain": [
       "Marks             1.000000\n",
       "time_study        0.942254\n",
       "number_courses    0.417335\n",
       "Name: Marks, dtype: float64"
      ]
     },
     "execution_count": 16,
     "metadata": {},
     "output_type": "execute_result"
    }
   ],
   "source": [
    "correlacao = notas.corr()\n",
    "correlacao[\"Marks\"].sort_values(ascending=False)"
   ]
  },
  {
   "cell_type": "markdown",
   "id": "cf8b108b",
   "metadata": {},
   "source": [
    "## Modelo de previsão de notas do aluno"
   ]
  },
  {
   "cell_type": "code",
   "execution_count": 19,
   "id": "eb520b5b",
   "metadata": {},
   "outputs": [],
   "source": [
    "x_independetes = np.array(notas[[\"time_study\", \"number_courses\"]])\n",
    "y_dependente = np.array(notas[\"Marks\"])\n",
    "xtrain, xtest, ytrain, ytest = train_test_split(x_independetes, y_dependente, test_size=0.2, random_state=42)"
   ]
  },
  {
   "cell_type": "markdown",
   "id": "d1ec416b",
   "metadata": {},
   "source": [
    "Neste momento vou treinar um modelo de aprendizado usando o algoritmo de regressão linear:"
   ]
  },
  {
   "cell_type": "code",
   "execution_count": 20,
   "id": "5bdbe72c",
   "metadata": {},
   "outputs": [
    {
     "data": {
      "text/plain": [
       "0.9459936100591212"
      ]
     },
     "execution_count": 20,
     "metadata": {},
     "output_type": "execute_result"
    }
   ],
   "source": [
    "modelo = LinearRegression()\n",
    "modelo.fit(xtrain, ytrain)\n",
    "modelo.score(xtest, ytest)"
   ]
  },
  {
   "cell_type": "markdown",
   "id": "a7d8458b",
   "metadata": {},
   "source": [
    "Agora vamos testar o desempenho desse modelo de aprendizado de máquina fornecendo entradas com base nos recursos que usamos para treinar o modelo e prever as notas de um aluno:"
   ]
  },
  {
   "cell_type": "code",
   "execution_count": 21,
   "id": "b0bc8046",
   "metadata": {},
   "outputs": [
    {
     "data": {
      "text/plain": [
       "array([22.30738483])"
      ]
     },
     "execution_count": 21,
     "metadata": {},
     "output_type": "execute_result"
    }
   ],
   "source": [
    "entrada = np.array([[4.508, 3]])\n",
    "modelo.predict(entrada)"
   ]
  },
  {
   "cell_type": "markdown",
   "id": "07f92ecb",
   "metadata": {},
   "source": [
    "# Criando um simulador simples"
   ]
  },
  {
   "cell_type": "code",
   "execution_count": null,
   "id": "9edb937a",
   "metadata": {},
   "outputs": [],
   "source": []
  },
  {
   "cell_type": "markdown",
   "id": "c49623b2",
   "metadata": {},
   "source": [
    "## Estimando o modelo com statsmodels"
   ]
  },
  {
   "cell_type": "code",
   "execution_count": 22,
   "id": "57a4ee59",
   "metadata": {},
   "outputs": [],
   "source": [
    "import statsmodels.api as sm\n",
    "x_train_com_constante = sm.add_constant(xtrain)"
   ]
  },
  {
   "cell_type": "code",
   "execution_count": 23,
   "id": "fb461b69",
   "metadata": {},
   "outputs": [
    {
     "data": {
      "text/plain": [
       "array([[1.   , 2.913, 7.   ],\n",
       "       [1.   , 1.803, 5.   ],\n",
       "       [1.   , 0.508, 7.   ],\n",
       "       [1.   , 3.591, 6.   ],\n",
       "       [1.   , 3.948, 6.   ],\n",
       "       [1.   , 4.26 , 4.   ],\n",
       "       [1.   , 0.14 , 4.   ],\n",
       "       [1.   , 0.301, 3.   ],\n",
       "       [1.   , 6.173, 3.   ],\n",
       "       [1.   , 4.633, 3.   ],\n",
       "       [1.   , 0.423, 7.   ],\n",
       "       [1.   , 4.779, 4.   ],\n",
       "       [1.   , 6.201, 8.   ],\n",
       "       [1.   , 0.156, 5.   ],\n",
       "       [1.   , 6.471, 8.   ],\n",
       "       [1.   , 3.211, 6.   ],\n",
       "       [1.   , 5.473, 4.   ],\n",
       "       [1.   , 2.142, 6.   ],\n",
       "       [1.   , 7.543, 3.   ],\n",
       "       [1.   , 5.719, 5.   ],\n",
       "       [1.   , 3.913, 5.   ],\n",
       "       [1.   , 4.083, 3.   ],\n",
       "       [1.   , 3.413, 5.   ],\n",
       "       [1.   , 3.561, 6.   ],\n",
       "       [1.   , 4.378, 8.   ],\n",
       "       [1.   , 3.977, 8.   ],\n",
       "       [1.   , 2.262, 8.   ],\n",
       "       [1.   , 1.407, 3.   ],\n",
       "       [1.   , 3.606, 6.   ],\n",
       "       [1.   , 4.274, 3.   ],\n",
       "       [1.   , 3.635, 4.   ],\n",
       "       [1.   , 7.909, 6.   ],\n",
       "       [1.   , 6.08 , 8.   ],\n",
       "       [1.   , 6.533, 7.   ],\n",
       "       [1.   , 4.41 , 4.   ],\n",
       "       [1.   , 7.451, 7.   ],\n",
       "       [1.   , 6.063, 3.   ],\n",
       "       [1.   , 0.13 , 7.   ],\n",
       "       [1.   , 2.966, 4.   ],\n",
       "       [1.   , 6.376, 7.   ],\n",
       "       [1.   , 7.641, 8.   ],\n",
       "       [1.   , 6.335, 3.   ],\n",
       "       [1.   , 7.591, 8.   ],\n",
       "       [1.   , 1.557, 5.   ],\n",
       "       [1.   , 6.703, 6.   ],\n",
       "       [1.   , 0.55 , 3.   ],\n",
       "       [1.   , 3.797, 4.   ],\n",
       "       [1.   , 1.395, 4.   ],\n",
       "       [1.   , 2.438, 4.   ],\n",
       "       [1.   , 7.163, 4.   ],\n",
       "       [1.   , 0.805, 3.   ],\n",
       "       [1.   , 2.754, 6.   ],\n",
       "       [1.   , 6.198, 3.   ],\n",
       "       [1.   , 5.635, 3.   ],\n",
       "       [1.   , 0.309, 7.   ],\n",
       "       [1.   , 7.649, 7.   ],\n",
       "       [1.   , 0.803, 3.   ],\n",
       "       [1.   , 0.932, 8.   ],\n",
       "       [1.   , 3.919, 8.   ],\n",
       "       [1.   , 7.468, 8.   ],\n",
       "       [1.   , 4.869, 3.   ],\n",
       "       [1.   , 1.982, 8.   ],\n",
       "       [1.   , 7.283, 6.   ],\n",
       "       [1.   , 1.299, 4.   ],\n",
       "       [1.   , 0.096, 4.   ],\n",
       "       [1.   , 0.771, 4.   ],\n",
       "       [1.   , 6.126, 6.   ],\n",
       "       [1.   , 3.133, 4.   ],\n",
       "       [1.   , 4.875, 7.   ],\n",
       "       [1.   , 1.033, 3.   ],\n",
       "       [1.   , 2.73 , 8.   ],\n",
       "       [1.   , 6.954, 4.   ],\n",
       "       [1.   , 4.067, 7.   ],\n",
       "       [1.   , 7.41 , 4.   ],\n",
       "       [1.   , 4.733, 4.   ],\n",
       "       [1.   , 0.376, 6.   ],\n",
       "       [1.   , 2.518, 5.   ],\n",
       "       [1.   , 2.908, 3.   ],\n",
       "       [1.   , 5.027, 4.   ],\n",
       "       [1.   , 4.13 , 6.   ]])"
      ]
     },
     "execution_count": 23,
     "metadata": {},
     "output_type": "execute_result"
    }
   ],
   "source": [
    "x_train_com_constante"
   ]
  },
  {
   "cell_type": "code",
   "execution_count": 24,
   "id": "f83602ee",
   "metadata": {},
   "outputs": [],
   "source": [
    "modelo_statsmodels = sm.OLS(ytrain, x_train_com_constante, hasconst = True).fit()"
   ]
  },
  {
   "cell_type": "markdown",
   "id": "e3d5f683",
   "metadata": {},
   "source": [
    "# Avaliando o Modelo Estimado"
   ]
  },
  {
   "cell_type": "code",
   "execution_count": 25,
   "id": "f846553e",
   "metadata": {},
   "outputs": [
    {
     "name": "stdout",
     "output_type": "stream",
     "text": [
      "                            OLS Regression Results                            \n",
      "==============================================================================\n",
      "Dep. Variable:                      y   R-squared:                       0.934\n",
      "Model:                            OLS   Adj. R-squared:                  0.933\n",
      "Method:                 Least Squares   F-statistic:                     548.0\n",
      "Date:                Tue, 03 May 2022   Prob (F-statistic):           2.90e-46\n",
      "Time:                        22:05:48   Log-Likelihood:                -212.79\n",
      "No. Observations:                  80   AIC:                             431.6\n",
      "Df Residuals:                      77   BIC:                             438.7\n",
      "Df Model:                           2                                         \n",
      "Covariance Type:            nonrobust                                         \n",
      "==============================================================================\n",
      "                 coef    std err          t      P>|t|      [0.025      0.975]\n",
      "------------------------------------------------------------------------------\n",
      "const         -6.6130      1.325     -4.992      0.000      -9.251      -3.975\n",
      "x1             5.1699      0.169     30.644      0.000       4.834       5.506\n",
      "x2             1.8715      0.222      8.413      0.000       1.429       2.315\n",
      "==============================================================================\n",
      "Omnibus:                       26.496   Durbin-Watson:                   2.031\n",
      "Prob(Omnibus):                  0.000   Jarque-Bera (JB):                7.809\n",
      "Skew:                           0.480   Prob(JB):                       0.0202\n",
      "Kurtosis:                       1.808   Cond. No.                         23.6\n",
      "==============================================================================\n",
      "\n",
      "Notes:\n",
      "[1] Standard Errors assume that the covariance matrix of the errors is correctly specified.\n"
     ]
    }
   ],
   "source": [
    "print(modelo_statsmodels.summary())"
   ]
  },
  {
   "cell_type": "code",
   "execution_count": null,
   "id": "e1e7a69e",
   "metadata": {},
   "outputs": [],
   "source": []
  }
 ],
 "metadata": {
  "kernelspec": {
   "display_name": "Python 3 (ipykernel)",
   "language": "python",
   "name": "python3"
  },
  "language_info": {
   "codemirror_mode": {
    "name": "ipython",
    "version": 3
   },
   "file_extension": ".py",
   "mimetype": "text/x-python",
   "name": "python",
   "nbconvert_exporter": "python",
   "pygments_lexer": "ipython3",
   "version": "3.9.7"
  }
 },
 "nbformat": 4,
 "nbformat_minor": 5
}
